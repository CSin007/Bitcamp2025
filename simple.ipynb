{
 "cells": [
  {
   "cell_type": "code",
   "execution_count": 1,
   "metadata": {},
   "outputs": [],
   "source": [
    "!pip3 install -q google-generativeai\n",
    "# !pip3 install -q pymongo"
   ]
  },
  {
   "cell_type": "code",
   "execution_count": 2,
   "metadata": {},
   "outputs": [
    {
     "name": "stdout",
     "output_type": "stream",
     "text": [
      "The capital of France is Paris.\n",
      "\n"
     ]
    }
   ],
   "source": [
    "import os\n",
    "from dotenv import load_dotenv\n",
    "import google.generativeai as genai\n",
    "\n",
    "# Load environment variables from .env file\n",
    "load_dotenv()\n",
    "\n",
    "# Set up the API key\n",
    "genai.configure(api_key=os.getenv(\"GEMINI_API_KEY\"))\n",
    "\n",
    "# Choose a model\n",
    "model = genai.GenerativeModel(\"gemini-2.0-flash\")\n",
    "\n",
    "# Ask a question\n",
    "question = \"What is the capital of France?\"\n",
    "response = model.generate_content(question)\n",
    "\n",
    "# Print the answer\n",
    "print(response.text)\n"
   ]
  },
  {
   "cell_type": "code",
   "execution_count": 5,
   "metadata": {},
   "outputs": [
    {
     "name": "stdout",
     "output_type": "stream",
     "text": [
      "✅ Successfully connected to MongoDB!\n"
     ]
    }
   ],
   "source": [
    "# MongoDB Integration\n",
    "import os\n",
    "from dotenv import load_dotenv\n",
    "from pymongo import MongoClient\n",
    "\n",
    "# Load environment variables from .env file\n",
    "load_dotenv()\n",
    "\n",
    "# Get credentials\n",
    "username = os.getenv(\"MONGODB_USERNAME\")\n",
    "password = os.getenv(\"MONGODB_PASSWORD\")\n",
    "\n",
    "# Construct URI\n",
    "uri = (\n",
    "    f\"mongodb+srv://{username}:{password}\"\n",
    "    \"@cluster0.ph7revd.mongodb.net/?retryWrites=true&w=majority&appName=Cluster0\"\n",
    ")\n",
    "\n",
    "# Initialize client\n",
    "client = MongoClient(\n",
    "    uri,\n",
    "    tls=True,\n",
    "    tlsAllowInvalidCertificates=True,\n",
    "    tlsAllowInvalidHostnames=True,\n",
    ")\n",
    "\n",
    "# Test connection\n",
    "try:\n",
    "    client.admin.command(\"ping\")\n",
    "    print(\"✅ Successfully connected to MongoDB!\")\n",
    "except Exception as e:\n",
    "    print(f\"Failed to connect to MongoDB: {e}\")\n"
   ]
  },
  {
   "cell_type": "code",
   "execution_count": null,
   "metadata": {},
   "outputs": [],
   "source": []
  }
 ],
 "metadata": {
  "kernelspec": {
   "display_name": "Python 3",
   "language": "python",
   "name": "python3"
  },
  "language_info": {
   "codemirror_mode": {
    "name": "ipython",
    "version": 3
   },
   "file_extension": ".py",
   "mimetype": "text/x-python",
   "name": "python",
   "nbconvert_exporter": "python",
   "pygments_lexer": "ipython3",
   "version": "3.11.1"
  }
 },
 "nbformat": 4,
 "nbformat_minor": 2
}
