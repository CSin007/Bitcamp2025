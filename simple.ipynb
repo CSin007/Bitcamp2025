{
 "cells": [
  {
   "cell_type": "code",
   "execution_count": 1,
   "metadata": {},
   "outputs": [],
   "source": [
    "!pip3 install -q google-generativeai\n",
    "# !pip3 install -q pymongo"
   ]
  },
  {
   "cell_type": "code",
   "execution_count": 2,
   "metadata": {},
   "outputs": [
    {
     "name": "stdout",
     "output_type": "stream",
     "text": [
      "The capital of France is Paris.\n",
      "\n"
     ]
    }
   ],
   "source": [
    "import os\n",
    "from dotenv import load_dotenv\n",
    "import google.generativeai as genai\n",
    "\n",
    "# Load environment variables from .env file\n",
    "load_dotenv()\n",
    "\n",
    "# Set up the API key\n",
    "genai.configure(api_key=os.getenv(\"GEMINI_API_KEY\"))\n",
    "\n",
    "# Choose a model\n",
    "model = genai.GenerativeModel(\"gemini-2.0-flash\")\n",
    "\n",
    "# Ask a question\n",
    "question = \"What is the capital of France?\"\n",
    "response = model.generate_content(question)\n",
    "\n",
    "# Print the answer\n",
    "print(response.text)\n"
   ]
  },
  {
   "cell_type": "code",
   "execution_count": 5,
   "metadata": {},
   "outputs": [
    {
     "name": "stdout",
     "output_type": "stream",
     "text": [
      "✅ Successfully connected to MongoDB!\n"
     ]
    }
   ],
   "source": [
    "# MongoDB Integration\n",
    "import os\n",
    "from dotenv import load_dotenv\n",
    "from pymongo import MongoClient\n",
    "\n",
    "# Load environment variables from .env file\n",
    "load_dotenv()\n",
    "\n",
    "# Get credentials\n",
    "username = os.getenv(\"MONGODB_USERNAME\")\n",
    "password = os.getenv(\"MONGODB_PASSWORD\")\n",
    "\n",
    "# Construct URI\n",
    "uri = (\n",
    "    f\"mongodb+srv://{username}:{password}\"\n",
    "    \"@cluster0.ph7revd.mongodb.net/?retryWrites=true&w=majority&appName=Cluster0\"\n",
    ")\n",
    "\n",
    "# Initialize client\n",
    "client = MongoClient(\n",
    "    uri,\n",
    "    tls=True,\n",
    "    tlsAllowInvalidCertificates=True,\n",
    "    tlsAllowInvalidHostnames=True,\n",
    ")\n",
    "\n",
    "# Test connection\n",
    "try:\n",
    "    client.admin.command(\"ping\")\n",
    "    print(\"✅ Successfully connected to MongoDB!\")\n",
    "except Exception as e:\n",
    "    print(f\"Failed to connect to MongoDB: {e}\")\n"
   ]
  },
  {
   "cell_type": "code",
   "execution_count": 4,
   "metadata": {},
   "outputs": [
    {
     "name": "stdout",
     "output_type": "stream",
     "text": [
      "Commits in last 24 hours: 12\n",
      "Commits: 12\n",
      "Lines Added: 18896\n",
      "Lines Removed: 213\n"
     ]
    }
   ],
   "source": [
    "import requests\n",
    "from datetime import datetime, timedelta, timezone\n",
    "import os\n",
    "from dotenv import load_dotenv\n",
    "\n",
    "load_dotenv()\n",
    "\n",
    "# Set your GitHub token and repo info\n",
    "token = os.getenv(\"GITHUB_TOKEN\") \n",
    "owner = \"CSin007\"\n",
    "author = \"Arushitib\"\n",
    "repo = \"Bitcamp2025\"\n",
    "\n",
    "# Get time 24 hours ago\n",
    "since = (datetime.now(timezone.utc) - timedelta(days=1)).isoformat()\n",
    "headers = {\"Authorization\": f\"token {token}\"}\n",
    "url = f\"https://api.github.com/repos/{owner}/{repo}/commits\"\n",
    "params = {\"since\": since, \"author\": author}\n",
    "\n",
    "# response = requests.get(url, headers=headers, params=params)\n",
    "commits = requests.get(url, headers=headers, params=params).json()\n",
    "\n",
    "print(f\"Commits in last 24 hours: {len(commits)}\")\n",
    "\n",
    "total_additions = 0\n",
    "total_deletions = 0\n",
    "\n",
    "for commit in commits:\n",
    "    sha = commit[\"sha\"]\n",
    "    commit_url = f\"https://api.github.com/repos/{owner}/{repo}/commits/{sha}\"\n",
    "    commit_data = requests.get(commit_url, headers=headers).json()\n",
    "\n",
    "    for file in commit_data.get(\"files\", []):\n",
    "        total_additions += file.get(\"additions\", 0)\n",
    "        total_deletions += file.get(\"deletions\", 0)\n",
    "\n",
    "print(f\"Commits: {len(commits)}\")\n",
    "print(f\"Lines Added: {total_additions}\")\n",
    "print(f\"Lines Removed: {total_deletions}\")\n"
   ]
  },
  {
   "cell_type": "code",
   "execution_count": 6,
   "metadata": {},
   "outputs": [
    {
     "name": "stdout",
     "output_type": "stream",
     "text": [
      "{'errors': [{'errorType': 'invalid_request', 'message': 'Missing parameters: code Visit https://dev.fitbit.com/docs/oauth2 for more information on the Fitbit Web API authorization process.'}], 'success': False}\n"
     ]
    }
   ],
   "source": [
    "# \n",
    "\n",
    "import os\n",
    "import base64\n",
    "import requests\n",
    "\n",
    "CLIENT_ID = os.getenv(\"FITBIT_CLIENT_ID\")\n",
    "CLIENT_SECRET = os.getenv(\"FITBIT_CLIENT_SECRET\")\n",
    "AUTH_CODE = \"\"\n",
    "REDIRECT_URI = \"http://localhost:8080/callback\"  \n",
    "\n",
    "b64_auth = base64.b64encode(f\"{CLIENT_ID}:{CLIENT_SECRET}\".encode()).decode()\n",
    "\n",
    "headers = {\n",
    "    \"Authorization\": f\"Basic {b64_auth}\",\n",
    "    \"Content-Type\": \"application/x-www-form-urlencoded\",\n",
    "}\n",
    "\n",
    "data = {\n",
    "    \"client_id\": CLIENT_ID,\n",
    "    \"grant_type\": \"authorization_code\",\n",
    "    \"redirect_uri\": REDIRECT_URI,\n",
    "    \"code\": AUTH_CODE,\n",
    "}\n",
    "\n",
    "res = requests.post(\"https://api.fitbit.com/oauth2/token\", headers=headers, data=data)\n",
    "print(res.json())\n"
   ]
  },
  {
   "cell_type": "code",
   "execution_count": null,
   "metadata": {},
   "outputs": [],
   "source": []
  }
 ],
 "metadata": {
  "kernelspec": {
   "display_name": "Python 3",
   "language": "python",
   "name": "python3"
  },
  "language_info": {
   "codemirror_mode": {
    "name": "ipython",
    "version": 3
   },
   "file_extension": ".py",
   "mimetype": "text/x-python",
   "name": "python",
   "nbconvert_exporter": "python",
   "pygments_lexer": "ipython3",
   "version": "3.11.1"
  }
 },
 "nbformat": 4,
 "nbformat_minor": 2
}
